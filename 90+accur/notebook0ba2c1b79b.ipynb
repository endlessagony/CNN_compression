{
 "cells": [
  {
   "cell_type": "code",
   "execution_count": 1,
   "metadata": {
    "_cell_guid": "79c7e3d0-c299-4dcb-8224-4455121ee9b0",
    "_uuid": "d629ff2d2480ee46fbb7e2d37f6b5fab8052498a"
   },
   "outputs": [],
   "source": [
    "import numpy as np\n",
    "\n",
    "import matplotlib.pyplot as plt\n",
    "import seaborn as sns\n",
    "\n",
    "from sklearn.metrics import confusion_matrix\n",
    "\n",
    "import sys\n",
    "import os\n",
    "from tensorflow.keras.preprocessing import image\n",
    "from PIL import Image\n",
    "from tqdm import tqdm\n",
    "from sklearn import metrics\n",
    "import pandas as pd\n",
    "import cv2\n",
    "import keras\n",
    "import tensorflow as tf\n",
    "from tensorflow.keras.applications import mobilenet,mobilenet_v2,inception_v3,efficientnet\n",
    "import tensorflow_model_optimization as tfmot"
   ]
  },
  {
   "cell_type": "code",
   "execution_count": 2,
   "metadata": {},
   "outputs": [
    {
     "name": "stdout",
     "output_type": "stream",
     "text": [
      "WARNING:tensorflow:From C:\\Users\\nikita\\AppData\\Local\\Temp/ipykernel_16688/337460670.py:1: is_gpu_available (from tensorflow.python.framework.test_util) is deprecated and will be removed in a future version.\n",
      "Instructions for updating:\n",
      "Use `tf.config.list_physical_devices('GPU')` instead.\n"
     ]
    },
    {
     "data": {
      "text/plain": [
       "True"
      ]
     },
     "execution_count": 2,
     "metadata": {},
     "output_type": "execute_result"
    }
   ],
   "source": [
    "tf.test.is_gpu_available()"
   ]
  },
  {
   "cell_type": "code",
   "execution_count": 3,
   "metadata": {},
   "outputs": [],
   "source": [
    "train_dir = r'C:\\Users\\nikita\\CourseWork\\NIH_CHEST\\train'\n",
    "val_dir = r'C:\\Users\\nikita\\CourseWork\\NIH_CHEST\\val'\n",
    "test_dir = r'C:\\Users\\nikita\\CourseWork\\NIH_CHEST\\test'"
   ]
  },
  {
   "cell_type": "code",
   "execution_count": 4,
   "metadata": {},
   "outputs": [],
   "source": [
    "IMG_HEIGHT = 224\n",
    "IMG_WIDTH = 224\n",
    "\n",
    "BATCH_SIZE = 32"
   ]
  },
  {
   "cell_type": "markdown",
   "metadata": {},
   "source": [
    "# Creating Data Generators"
   ]
  },
  {
   "cell_type": "code",
   "execution_count": 5,
   "metadata": {},
   "outputs": [],
   "source": [
    "train_datagen = tf.keras.preprocessing.image.ImageDataGenerator(\n",
    "    rescale=1./255,\n",
    "    rotation_range=20,\n",
    "    brightness_range=(1.2, 1.5),\n",
    "    horizontal_flip=True\n",
    ")\n",
    "\n",
    "val_datagen = tf.keras.preprocessing.image.ImageDataGenerator(\n",
    "    rescale=1./255\n",
    ")\n",
    "\n",
    "test_datagen = tf.keras.preprocessing.image.ImageDataGenerator(\n",
    "    rescale=1./255\n",
    ")"
   ]
  },
  {
   "cell_type": "code",
   "execution_count": 34,
   "metadata": {},
   "outputs": [
    {
     "name": "stdout",
     "output_type": "stream",
     "text": [
      "Found 5216 images belonging to 2 classes.\n",
      "Found 16 images belonging to 2 classes.\n",
      "Found 624 images belonging to 2 classes.\n",
      "Overall found 5856 images\n"
     ]
    }
   ],
   "source": [
    "train_data = train_datagen.flow_from_directory(\n",
    "    train_dir,\n",
    "    target_size=(IMG_HEIGHT, IMG_WIDTH),\n",
    "    class_mode='binary',\n",
    "    batch_size=BATCH_SIZE\n",
    ")\n",
    "\n",
    "val_data = train_datagen.flow_from_directory(\n",
    "    val_dir,\n",
    "    target_size=(IMG_HEIGHT, IMG_WIDTH),\n",
    "    class_mode='binary',\n",
    "    batch_size=BATCH_SIZE\n",
    ")\n",
    "\n",
    "test_data = train_datagen.flow_from_directory(\n",
    "    test_dir,\n",
    "    target_size=(IMG_HEIGHT, IMG_WIDTH),\n",
    "    class_mode='binary',\n",
    "    batch_size=BATCH_SIZE\n",
    ")\n",
    "\n",
    "print(\"Overall found\", (train_data.samples + val_data.samples + test_data.samples), 'images')"
   ]
  },
  {
   "cell_type": "markdown",
   "metadata": {},
   "source": [
    "**DESTRIBUTION OF DATA** "
   ]
  },
  {
   "cell_type": "code",
   "execution_count": 28,
   "metadata": {},
   "outputs": [],
   "source": [
    "def show_destribution():\n",
    "    x_axes = np.arange(3)\n",
    "    y_axes = []\n",
    "    for train_el in range(train_data.samples):\n",
    "        y_axes.append(2)\n",
    "    for val_el in range(val_data.samples):\n",
    "        y_axes.append(1)\n",
    "    for test_el in range(test_data.samples):\n",
    "        y_axes.append(3)\n",
    "    \n",
    "    fig = plt.figure(figsize=(12, 9))\n",
    "    plt.hist(x=y_axes, bins=3, zorder=2, rwidth=0.9)\n",
    "    plt.xlabel('Train, Val and Test')\n",
    "    plt.ylabel('Number of ...')"
   ]
  },
  {
   "cell_type": "code",
   "execution_count": 29,
   "metadata": {},
   "outputs": [
    {
     "data": {
      "image/png": "[encoded data removed]",
      "text/plain": [
       "<Figure size 864x648 with 1 Axes>"
      ]
     },
     "metadata": {
      "needs_background": "light"
     },
     "output_type": "display_data"
    }
   ],
   "source": [
    "show_destribution()"
   ]
  },
  {
   "cell_type": "markdown",
   "metadata": {},
   "source": [
    "# Building the Model"
   ]
  },
  {
   "cell_type": "code",
   "execution_count": 35,
   "metadata": {},
   "outputs": [
    {
     "name": "stdout",
     "output_type": "stream",
     "text": [
      "input 1 for mobile_net, 2 for resnet, 3 for Xception 3\n"
     ]
    }
   ],
   "source": [
    "print(\"input 1 for mobile_net, 2 for resnet, 3 for Xception \", end='')\n",
    "\n",
    "choice = int(input())\n",
    "\n",
    "if (choice == 1):\n",
    "    model_general=tf.keras.applications.MobileNetV2(\n",
    "    input_shape=(IMG_HEIGHT, IMG_WIDTH, 3),\n",
    "    include_top=False,\n",
    "    weights='imagenet',\n",
    "    pooling='avg'\n",
    "    )\n",
    "    model_general.trainable = False\n",
    "elif (choice == 2):\n",
    "    model_general=tf.keras.applications.VGG19(\n",
    "    input_shape=(IMG_HEIGHT, IMG_WIDTH, 3),\n",
    "    include_top=False,\n",
    "    weights='imagenet',\n",
    "    pooling='avg'\n",
    "    )\n",
    "    model_general.trainable = False\n",
    "elif (choice == 3):\n",
    "    model_general=tf.keras.applications.Xception(\n",
    "    input_shape=(IMG_HEIGHT, IMG_WIDTH, 3),\n",
    "    include_top=False,\n",
    "    weights='imagenet',\n",
    "    pooling='avg'\n",
    "    )\n",
    "    model_general.trainable = False\n",
    "else:\n",
    "    print(\"!wrong input\")"
   ]
  },
  {
   "cell_type": "code",
   "execution_count": 36,
   "metadata": {},
   "outputs": [
    {
     "name": "stdout",
     "output_type": "stream",
     "text": [
      "Model: \"model_1\"\n",
      "_________________________________________________________________\n",
      " Layer (type)                Output Shape              Param #   \n",
      "=================================================================\n",
      " input_4 (InputLayer)        [(None, 224, 224, 3)]     0         \n",
      "                                                                 \n",
      " xception (Functional)       (None, 2048)              20861480  \n",
      "                                                                 \n",
      " dense_2 (Dense)             (None, 1024)              2098176   \n",
      "                                                                 \n",
      " dense_3 (Dense)             (None, 1)                 1025      \n",
      "                                                                 \n",
      "=================================================================\n",
      "Total params: 22,960,681\n",
      "Trainable params: 2,099,201\n",
      "Non-trainable params: 20,861,480\n",
      "_________________________________________________________________\n",
      "None\n"
     ]
    }
   ],
   "source": [
    "inputs = tf.keras.Input(shape=(IMG_HEIGHT, IMG_WIDTH, 3))\n",
    "\n",
    "pretrained_model = model_general(inputs, training=False)\n",
    "\n",
    "dense = tf.keras.layers.Dense(1024, activation='relu')(pretrained_model)\n",
    "\n",
    "outputs = tf.keras.layers.Dense(1, activation='sigmoid')(dense)\n",
    "\n",
    "\n",
    "model = tf.keras.Model(inputs, outputs)\n",
    "\n",
    "\n",
    "print(model.summary())"
   ]
  },
  {
   "cell_type": "code",
   "execution_count": 38,
   "metadata": {},
   "outputs": [
    {
     "name": "stdout",
     "output_type": "stream",
     "text": [
      "Epoch 1/5\n",
      "163/163 [==============================] - ETA: 0s - loss: 0.1830 - accuracy: 0.9266 - auc: 0.9718\n",
      "Epoch 1: val_loss improved from inf to 0.30431, saving model to NIH_model_1.h5\n",
      "163/163 [==============================] - 97s 580ms/step - loss: 0.1830 - accuracy: 0.9266 - auc: 0.9718 - val_loss: 0.3043 - val_accuracy: 0.9375 - val_auc: 0.9531 - lr: 0.0010\n",
      "Epoch 2/5\n",
      "163/163 [==============================] - ETA: 0s - loss: 0.1328 - accuracy: 0.9438 - auc: 0.9854\n",
      "Epoch 2: val_loss did not improve from 0.30431\n",
      "\n",
      "Epoch 2: ReduceLROnPlateau reducing learning rate to 0.00010000000474974513.\n",
      "163/163 [==============================] - 94s 576ms/step - loss: 0.1328 - accuracy: 0.9438 - auc: 0.9854 - val_loss: 0.4271 - val_accuracy: 0.8125 - val_auc: 0.8984 - lr: 0.0010\n",
      "Epoch 3/5\n",
      "163/163 [==============================] - ETA: 0s - loss: 0.1156 - accuracy: 0.9530 - auc: 0.9890\n",
      "Epoch 3: val_loss did not improve from 0.30431\n",
      "\n",
      "Epoch 3: ReduceLROnPlateau reducing learning rate to 1.0000000474974514e-05.\n",
      "163/163 [==============================] - 93s 570ms/step - loss: 0.1156 - accuracy: 0.9530 - auc: 0.9890 - val_loss: 0.8038 - val_accuracy: 0.7500 - val_auc: 0.8750 - lr: 1.0000e-04\n",
      "Epoch 4/5\n",
      "163/163 [==============================] - ETA: 0s - loss: 0.1099 - accuracy: 0.9582 - auc: 0.9895\n",
      "Epoch 4: val_loss did not improve from 0.30431\n",
      "\n",
      "Epoch 4: ReduceLROnPlateau reducing learning rate to 1.0000000656873453e-06.\n",
      "163/163 [==============================] - 92s 564ms/step - loss: 0.1099 - accuracy: 0.9582 - auc: 0.9895 - val_loss: 0.4618 - val_accuracy: 0.8750 - val_auc: 0.9375 - lr: 1.0000e-05\n",
      "Epoch 5/5\n",
      "163/163 [==============================] - ETA: 0s - loss: 0.1080 - accuracy: 0.9605 - auc: 0.9900\n",
      "Epoch 5: val_loss did not improve from 0.30431\n",
      "\n",
      "Epoch 5: ReduceLROnPlateau reducing learning rate to 1e-06.\n",
      "163/163 [==============================] - 93s 567ms/step - loss: 0.1080 - accuracy: 0.9605 - auc: 0.9900 - val_loss: 0.7582 - val_accuracy: 0.8125 - val_auc: 0.8516 - lr: 1.0000e-06\n"
     ]
    }
   ],
   "source": [
    "EPOCHS = 5\n",
    "\n",
    "callbacks=[\n",
    "    tf.keras.callbacks.EarlyStopping(monitor=\"val_loss\",patience=5,verbose=1),\n",
    "    tf.keras.callbacks.ModelCheckpoint(\"NIH_model_1.h5\",save_best_only=True,verbose=1),\n",
    "    tf.keras.callbacks.ReduceLROnPlateau(monitor='val_loss', factor=0.1,\n",
    "                                      patience=1, min_delta = 0.001,\n",
    "                                      min_lr=0.000001,\n",
    "                                      mode = 'min',verbose=1)]\n",
    "\n",
    "model.compile(\n",
    "    optimizer='adam',\n",
    "    loss='binary_crossentropy',\n",
    "    metrics=[\n",
    "        'accuracy',\n",
    "        tf.keras.metrics.AUC(name='auc')\n",
    "    ]\n",
    ")\n",
    "\n",
    "history = model.fit(\n",
    "    train_data,\n",
    "    validation_data=val_data,\n",
    "    batch_size=BATCH_SIZE,\n",
    "    epochs=EPOCHS,\n",
    "    callbacks=callbacks\n",
    ")"
   ]
  },
  {
   "cell_type": "markdown",
   "metadata": {},
   "source": [
    "# Results"
   ]
  },
  {
   "cell_type": "code",
   "execution_count": 39,
   "metadata": {
    "scrolled": true
   },
   "outputs": [
    {
     "name": "stderr",
     "output_type": "stream",
     "text": [
      "C:\\Users\\nikita\\AppData\\Local\\Temp/ipykernel_16688/1857651140.py:2: DeprecationWarning: `np.int` is a deprecated alias for the builtin `int`. To silence this warning, use `int` by itself. Doing this will not modify any behavior and is safe. When replacing `np.int`, you may wish to use e.g. `np.int64` or `np.int32` to specify the precision. If you wish to review your current use, check the release note link for additional information.\n",
      "Deprecated in NumPy 1.20; for more details and guidance: https://numpy.org/devdocs/release/1.20.0-notes.html#deprecations\n",
      "  pred_labels = np.squeeze(np.array(model.predict(test_data) >= 0.5, dtype=np.int))\n"
     ]
    }
   ],
   "source": [
    "true_labels = test_data.labels\n",
    "pred_labels = np.squeeze(np.array(model.predict(test_data) >= 0.5, dtype=np.int))\n",
    "\n",
    "cm = confusion_matrix(true_labels, pred_labels)"
   ]
  },
  {
   "cell_type": "code",
   "execution_count": 40,
   "metadata": {},
   "outputs": [
    {
     "data": {
      "text/plain": [
       "{'NORMAL': 0, 'PNEUMONIA': 1}"
      ]
     },
     "execution_count": 40,
     "metadata": {},
     "output_type": "execute_result"
    }
   ],
   "source": [
    "test_data.class_indices"
   ]
  },
  {
   "cell_type": "code",
   "execution_count": 41,
   "metadata": {},
   "outputs": [
    {
     "data": {
      "image/png": "[encoded data removed]",
      "text/plain": [
       "<Figure size 432x432 with 1 Axes>"
      ]
     },
     "metadata": {
      "needs_background": "light"
     },
     "output_type": "display_data"
    }
   ],
   "source": [
    "plt.figure(figsize=(6, 6))\n",
    "sns.heatmap(cm, annot=True, fmt='g', vmin=0, cmap='mako', cbar=False)\n",
    "plt.xlabel(\"Predicted\")\n",
    "plt.ylabel(\"Actual\")\n",
    "plt.xticks(np.arange(2) + 0.5, ['Normal', 'Pneumonia'], fontsize=16)\n",
    "plt.yticks(np.arange(2) + 0.5, ['Normal', 'Pneumonia'], fontsize=16)\n",
    "plt.show()"
   ]
  },
  {
   "cell_type": "code",
   "execution_count": 42,
   "metadata": {},
   "outputs": [],
   "source": [
    "results = model.evaluate(test_data, verbose=0)\n",
    "\n",
    "accuracy = results[1]\n",
    "auc = results[2]"
   ]
  },
  {
   "cell_type": "code",
   "execution_count": 43,
   "metadata": {},
   "outputs": [],
   "source": [
    "tn, fp, fn, tp = cm.ravel()\n",
    "\n",
    "precision = tp / (tp + fp)\n",
    "recall = tp / (tp + fn)"
   ]
  },
  {
   "cell_type": "code",
   "execution_count": 44,
   "metadata": {},
   "outputs": [
    {
     "name": "stdout",
     "output_type": "stream",
     "text": [
      "Accuracy: 0.81\n",
      "AUC: 0.93\n",
      "Precision: 0.62\n",
      "Recall: 0.76\n"
     ]
    }
   ],
   "source": [
    "print(\"Accuracy: {:.2f}\".format(accuracy))\n",
    "print(\"AUC: {:.2f}\".format(auc))\n",
    "print(\"Precision: {:.2f}\".format(precision))\n",
    "print(\"Recall: {:.2f}\".format(recall))"
   ]
  },
  {
   "cell_type": "code",
   "execution_count": 45,
   "metadata": {},
   "outputs": [],
   "source": [
    "def loss_and_accur_through_epochs(history):\n",
    "    print(\"- the Accuracy and Loss for custom Model With 10 Epochs\")\n",
    "    plt.figure(figsize=(40,20))\n",
    "\n",
    "\n",
    "\n",
    "    # summarize history for accuracy \n",
    "    plt.subplot(5,5,1)\n",
    "    plt.plot(history.history['accuracy'])\n",
    "    plt.plot(history.history['val_accuracy'])\n",
    "    plt.title('model accuracy')\n",
    "    plt.ylabel('accuracy')\n",
    "    plt.xlabel('epoch')\n",
    "    plt.legend(['train','validation'], loc='upper left')\n",
    "\n",
    "\n",
    "\n",
    "    # summarize history for loss\n",
    "    plt.subplot(5,5,2)\n",
    "    plt.plot(history.history['loss'])\n",
    "    plt.plot(history.history['val_loss'])\n",
    "    plt.title('model loss')\n",
    "    plt.ylabel('loss')\n",
    "    plt.xlabel('epoch')\n",
    "    plt.legend(['train','loss'], loc='upper left')\n",
    "    plt.show()"
   ]
  },
  {
   "cell_type": "code",
   "execution_count": 46,
   "metadata": {},
   "outputs": [
    {
     "name": "stdout",
     "output_type": "stream",
     "text": [
      "- the Accuracy and Loss for custom Model With 10 Epochs\n"
     ]
    },
    {
     "data": {
      "image/png": "[encoded data removed]",
      "text/plain": [
       "<Figure size 2880x1440 with 2 Axes>"
      ]
     },
     "metadata": {
      "needs_background": "light"
     },
     "output_type": "display_data"
    }
   ],
   "source": [
    "loss_and_accur_through_epochs(history=history)"
   ]
  },
  {
   "cell_type": "markdown",
   "metadata": {},
   "source": [
    "**POST-TRAINING QUANTIZATION**"
   ]
  },
  {
   "cell_type": "code",
   "execution_count": 53,
   "metadata": {},
   "outputs": [],
   "source": [
    "def SizeOfNet(model: bytes):\n",
    "    print(\"Size -->\", len(model), \"bytes\")\n",
    "    return len(model)\n",
    "\n",
    "def reducement_of_size(before, after):\n",
    "    plt.figure(figsize=(12,9))\n",
    "    x_before = np.zeros(shape=(1, before))\n",
    "    x_after = np.ones(shape=(1, after))\n",
    "    \n",
    "    x_axes = np.append(x_before, x_after)\n",
    "    plt.hist(x=x_axes, bins=2, zorder=2, rwidth=0.9)\n",
    "    plt.xlabel('Before and After PTQ')\n",
    "    plt.ylabel('Size of a model')\n",
    "    plt.suptitle(\"- The reducement in size of net\")"
   ]
  },
  {
   "cell_type": "code",
   "execution_count": 64,
   "metadata": {},
   "outputs": [
    {
     "data": {
      "text/plain": [
       "<generator object another_representative_dataset at 0x000002848D261430>"
      ]
     },
     "execution_count": 64,
     "metadata": {},
     "output_type": "execute_result"
    }
   ],
   "source": [
    "import random\n",
    "def another_representative_dataset():\n",
    "    base_dir=r'C:\\Users\\nikita\\CourseWork\\NIH_CHEST\\train'\n",
    "    train_synsets=os.listdir(base_dir)\n",
    "    for _ in train_synsets[:100]:\n",
    "        test_iamge = get_img(base_dir+'\\\\'+_)\n",
    "        test_image = image.img_to_array(test_image)\n",
    "        test_image = np.expand_dims(test_image, axis=0).astype(np.float32)\n",
    "        test_image = net_model.preprocess_input(test_image)\n",
    "        yield [test_image]\n",
    "\n",
    "def get_img(img_path):\n",
    "    if False:\n",
    "        img = image.load_img(img_path, target_size=(224,224))\n",
    "    else:\n",
    "        img = Image.open(img_path)\n",
    "        img=img.convert('RGB')\n",
    "        img = torch_preprocess(img)\n",
    "    return img\n",
    "\n",
    "another_representative_dataset()"
   ]
  },
  {
   "cell_type": "code",
   "execution_count": 48,
   "metadata": {},
   "outputs": [
    {
     "name": "stdout",
     "output_type": "stream",
     "text": [
      "INFO:tensorflow:Assets written to: C:\\Users\\nikita\\AppData\\Local\\Temp\\tmpjv356rkb\\assets\n"
     ]
    },
    {
     "name": "stderr",
     "output_type": "stream",
     "text": [
      "WARNING:absl:Buffer deduplication procedure will be skipped when flatbuffer library is not properly loaded\n"
     ]
    }
   ],
   "source": [
    "# converter = tf.lite.TFLiteConverter.from_saved_model('./saved_models')\n",
    "converter = tf.lite.TFLiteConverter.from_keras_model(model)\n",
    "my_tflite_model = converter.convert()"
   ]
  },
  {
   "cell_type": "code",
   "execution_count": 50,
   "metadata": {},
   "outputs": [
    {
     "name": "stdout",
     "output_type": "stream",
     "text": [
      "Size --> 91573332 bytes\n"
     ]
    }
   ],
   "source": [
    "before_quant = SizeOfNet(my_tflite_model)"
   ]
  },
  {
   "cell_type": "code",
   "execution_count": 66,
   "metadata": {
    "scrolled": true
   },
   "outputs": [
    {
     "name": "stdout",
     "output_type": "stream",
     "text": [
      "Input 1 for only integer, 2 for float16, 3 for dynamic\n",
      "2\n",
      "INFO:tensorflow:Assets written to: C:\\Users\\nikita\\AppData\\Local\\Temp\\tmpcg_546aw\\assets\n"
     ]
    },
    {
     "name": "stderr",
     "output_type": "stream",
     "text": [
      "INFO:tensorflow:Assets written to: C:\\Users\\nikita\\AppData\\Local\\Temp\\tmpcg_546aw\\assets\n",
      "WARNING:absl:Buffer deduplication procedure will be skipped when flatbuffer library is not properly loaded\n"
     ]
    }
   ],
   "source": [
    "# converter_lite = tf.lite.TFLiteConverter.from_saved_model('./saved_models')\n",
    "converter_lite = tf.lite.TFLiteConverter.from_keras_model(model)\n",
    "converter_lite.optimizations = [tf.lite.Optimize.DEFAULT]\n",
    "\n",
    "print(\"Input 1 for only integer, 2 for float16, 3 for dynamic\")\n",
    "quant_choice = int(input())\n",
    "if (quant_choice == 1):\n",
    "    converter_lite.representative_dataset = another_representative_dataset\n",
    "    converter_lite.target_spec.supported_ops = [tf.lite.OpsSet.TFLITE_BUILTINS_INT8]\n",
    "    converter_lite.inference_input_type = tf.int8  # or tf.uint8\n",
    "    converter_lite.inference_output_type = tf.int8  # or tf.uint8\n",
    "    converter_lite.representative_dataset = another_representative_dataset\n",
    "    my_tflite_quant_model = converter_lite.convert()\n",
    "elif (quant_choice == 2):\n",
    "    converter_lite.optimizations = [tf.lite.Optimize.DEFAULT]\n",
    "    converter_lite.target_spec.supported_types = [tf.float16]\n",
    "    converter_lite.representative_dataset = another_representative_dataset\n",
    "    my_tflite_quant_model = converter_lite.convert()\n",
    "elif (quant_choice == 3):\n",
    "    converter_lite.optimizations = [tf.lite.Optimize.DEFAULT]\n",
    "    converter_lite.representative_dataset = another_representative_dataset\n",
    "    my_tflite_quant_model = converter_lite.convert()\n",
    "else:\n",
    "    print(\"!Wrong input\")"
   ]
  },
  {
   "cell_type": "code",
   "execution_count": 67,
   "metadata": {},
   "outputs": [],
   "source": [
    "with open(\"my_tflite_quant_model.tflite\", \"wb\") as f:\n",
    "    f.write(my_tflite_quant_model)"
   ]
  },
  {
   "cell_type": "code",
   "execution_count": 68,
   "metadata": {},
   "outputs": [
    {
     "name": "stdout",
     "output_type": "stream",
     "text": [
      "Size --> 45829488 bytes\n"
     ]
    }
   ],
   "source": [
    "after_quant = SizeOfNet(my_tflite_quant_model)"
   ]
  },
  {
   "cell_type": "code",
   "execution_count": 69,
   "metadata": {},
   "outputs": [
    {
     "data": {
      "image/png": "[encoded data removed]",
      "text/plain": [
       "<Figure size 864x648 with 1 Axes>"
      ]
     },
     "metadata": {
      "needs_background": "light"
     },
     "output_type": "display_data"
    }
   ],
   "source": [
    "reducement_of_size(before=before_quant, after=after_quant)"
   ]
  },
  {
   "cell_type": "code",
   "execution_count": 74,
   "metadata": {},
   "outputs": [
    {
     "name": "stdout",
     "output_type": "stream",
     "text": [
      "input:  {'name': 'serving_default_input_4:0', 'index': 0, 'shape': array([  1, 224, 224,   3]), 'shape_signature': array([ -1, 224, 224,   3]), 'dtype': <class 'numpy.float32'>, 'quantization': (0.0, 0), 'quantization_parameters': {'scales': array([], dtype=float32), 'zero_points': array([], dtype=int32), 'quantized_dimension': 0}, 'sparsity_parameters': {}}\n",
      "output:  {'name': 'StatefulPartitionedCall:0', 'index': 230, 'shape': array([1, 1]), 'shape_signature': array([-1,  1]), 'dtype': <class 'numpy.float32'>, 'quantization': (0.0, 0), 'quantization_parameters': {'scales': array([], dtype=float32), 'zero_points': array([], dtype=int32), 'quantized_dimension': 0}, 'sparsity_parameters': {}}\n"
     ]
    }
   ],
   "source": [
    "interpreter = tf.lite.Interpreter(model_content=my_tflite_quant_model, num_threads=8)\n",
    "input_details = interpreter.get_input_details()[0]\n",
    "output_details = interpreter.get_output_details()[0]\n",
    "print('input: ', input_details)\n",
    "print('output: ', output_details)\n",
    "interpreter.allocate_tensors()"
   ]
  },
  {
   "cell_type": "code",
   "execution_count": null,
   "metadata": {},
   "outputs": [],
   "source": []
  }
 ],
 "metadata": {
  "kernelspec": {
   "display_name": "Python 3 (ipykernel)",
   "language": "python",
   "name": "python3"
  },
  "language_info": {
   "codemirror_mode": {
    "name": "ipython",
    "version": 3
   },
   "file_extension": ".py",
   "mimetype": "text/x-python",
   "name": "python",
   "nbconvert_exporter": "python",
   "pygments_lexer": "ipython3",
   "version": "3.9.7"
  }
 },
 "nbformat": 4,
 "nbformat_minor": 4
}
